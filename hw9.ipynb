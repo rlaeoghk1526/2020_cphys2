{
 "cells": [
  {
   "cell_type": "code",
   "execution_count": 1,
   "metadata": {},
   "outputs": [],
   "source": [
    "from tensorflow import keras\n",
    "from keras import models \n",
    "from keras import layers\n",
    "import numpy as np\n",
    "import matplotlib.pyplot as plt\n",
    "from keras.utils import to_categorical\n",
    "from keras.datasets import fashion_mnist"
   ]
  },
  {
   "cell_type": "code",
   "execution_count": 2,
   "metadata": {},
   "outputs": [],
   "source": [
    "(X_train, y_train), (X_test, y_test) = fashion_mnist.load_data()\n",
    "y_train=to_categorical(y_train)\n",
    "y_test=to_categorical(y_test)\n",
    "\n",
    "X_train = X_train.reshape((60000,28,28,1))\n",
    "X_train = X_train/255\n",
    "\n",
    "X_test = X_test.reshape((10000,28,28,1))\n",
    "X_test = X_test/255\n",
    "\n",
    "net = models.Sequential()\n",
    "net.add(layers.Conv2D(32,(3,3), activation='relu', input_shape=(28,28,1)))\n",
    "net.add(layers.MaxPooling2D((2,2)))\n",
    "net.add(layers.Dropout(0.25))\n",
    "net.add(layers.Conv2D(64,(3,3), activation='relu'))\n",
    "net.add(layers.MaxPooling2D((2,2)))\n",
    "net.add(layers.Dropout(0.25))\n",
    "net.add(layers.Flatten())\n",
    "net.add(layers.Dense(512, activation='relu'))\n",
    "net.add(layers.Dropout(0.5))\n",
    "net.add(layers.Dense(10, activation='softmax')) \n",
    "net.compile(optimizer='nadam',loss='categorical_crossentropy',metrics=['acc'])"
   ]
  },
  {
   "cell_type": "code",
   "execution_count": 3,
   "metadata": {},
   "outputs": [],
   "source": [
    "X_val = X_train[:10000]\n",
    "part_X_train = X_train[10000:]\n",
    "\n",
    "y_val = y_train[:10000]\n",
    "part_y_train = y_train[10000:]"
   ]
  },
  {
   "cell_type": "code",
   "execution_count": 4,
   "metadata": {},
   "outputs": [
    {
     "name": "stdout",
     "output_type": "stream",
     "text": [
      "Model: \"sequential\"\n",
      "_________________________________________________________________\n",
      "Layer (type)                 Output Shape              Param #   \n",
      "=================================================================\n",
      "conv2d (Conv2D)              (None, 26, 26, 32)        320       \n",
      "_________________________________________________________________\n",
      "max_pooling2d (MaxPooling2D) (None, 13, 13, 32)        0         \n",
      "_________________________________________________________________\n",
      "dropout (Dropout)            (None, 13, 13, 32)        0         \n",
      "_________________________________________________________________\n",
      "conv2d_1 (Conv2D)            (None, 11, 11, 64)        18496     \n",
      "_________________________________________________________________\n",
      "max_pooling2d_1 (MaxPooling2 (None, 5, 5, 64)          0         \n",
      "_________________________________________________________________\n",
      "dropout_1 (Dropout)          (None, 5, 5, 64)          0         \n",
      "_________________________________________________________________\n",
      "flatten (Flatten)            (None, 1600)              0         \n",
      "_________________________________________________________________\n",
      "dense (Dense)                (None, 512)               819712    \n",
      "_________________________________________________________________\n",
      "dropout_2 (Dropout)          (None, 512)               0         \n",
      "_________________________________________________________________\n",
      "dense_1 (Dense)              (None, 10)                5130      \n",
      "=================================================================\n",
      "Total params: 843,658\n",
      "Trainable params: 843,658\n",
      "Non-trainable params: 0\n",
      "_________________________________________________________________\n"
     ]
    }
   ],
   "source": [
    "net.summary()"
   ]
  },
  {
   "cell_type": "code",
   "execution_count": 5,
   "metadata": {},
   "outputs": [
    {
     "name": "stdout",
     "output_type": "stream",
     "text": [
      "Epoch 1/15\n",
      "782/782 [==============================] - 70s 90ms/step - loss: 0.5787 - acc: 0.7878 - val_loss: 0.4405 - val_acc: 0.8309\n",
      "Epoch 2/15\n",
      "782/782 [==============================] - 75s 95ms/step - loss: 0.3878 - acc: 0.8578 - val_loss: 0.3343 - val_acc: 0.8775\n",
      "Epoch 3/15\n",
      "782/782 [==============================] - 78s 100ms/step - loss: 0.3406 - acc: 0.8741 - val_loss: 0.2814 - val_acc: 0.8945\n",
      "Epoch 4/15\n",
      "782/782 [==============================] - 81s 103ms/step - loss: 0.3100 - acc: 0.8864 - val_loss: 0.2823 - val_acc: 0.8929\n",
      "Epoch 5/15\n",
      "782/782 [==============================] - 81s 103ms/step - loss: 0.2895 - acc: 0.8931 - val_loss: 0.2716 - val_acc: 0.8949\n",
      "Epoch 6/15\n",
      "782/782 [==============================] - 82s 105ms/step - loss: 0.2710 - acc: 0.9002 - val_loss: 0.2677 - val_acc: 0.8998\n",
      "Epoch 7/15\n",
      "782/782 [==============================] - 82s 105ms/step - loss: 0.2578 - acc: 0.9038 - val_loss: 0.2396 - val_acc: 0.9079\n",
      "Epoch 8/15\n",
      "782/782 [==============================] - 83s 106ms/step - loss: 0.2485 - acc: 0.9067 - val_loss: 0.2298 - val_acc: 0.9129\n",
      "Epoch 9/15\n",
      "782/782 [==============================] - 84s 108ms/step - loss: 0.2388 - acc: 0.9105 - val_loss: 0.2212 - val_acc: 0.9162\n",
      "Epoch 10/15\n",
      "782/782 [==============================] - 84s 107ms/step - loss: 0.2319 - acc: 0.9127 - val_loss: 0.2206 - val_acc: 0.9179\n",
      "Epoch 11/15\n",
      "782/782 [==============================] - 85s 109ms/step - loss: 0.2242 - acc: 0.9164 - val_loss: 0.2165 - val_acc: 0.9188\n",
      "Epoch 12/15\n",
      "782/782 [==============================] - 85s 109ms/step - loss: 0.2165 - acc: 0.9193 - val_loss: 0.2071 - val_acc: 0.9214\n",
      "Epoch 13/15\n",
      "782/782 [==============================] - 87s 111ms/step - loss: 0.2106 - acc: 0.9227 - val_loss: 0.2175 - val_acc: 0.9194\n",
      "Epoch 14/15\n",
      "782/782 [==============================] - 86s 110ms/step - loss: 0.2061 - acc: 0.9214 - val_loss: 0.2148 - val_acc: 0.9207\n",
      "Epoch 15/15\n",
      "782/782 [==============================] - 86s 110ms/step - loss: 0.1995 - acc: 0.9257 - val_loss: 0.2130 - val_acc: 0.9217\n"
     ]
    },
    {
     "data": {
      "text/plain": [
       "<tensorflow.python.keras.callbacks.History at 0x276e3db3808>"
      ]
     },
     "execution_count": 5,
     "metadata": {},
     "output_type": "execute_result"
    }
   ],
   "source": [
    "net.fit(part_X_train,part_y_train,epochs =15, batch_size = 64, validation_data=(X_val, y_val))"
   ]
  },
  {
   "cell_type": "code",
   "execution_count": 6,
   "metadata": {},
   "outputs": [
    {
     "name": "stdout",
     "output_type": "stream",
     "text": [
      "313/313 [==============================] - 3s 8ms/step - loss: 0.2365 - acc: 0.9138\n"
     ]
    },
    {
     "data": {
      "text/plain": [
       "[0.2364734411239624, 0.9138000011444092]"
      ]
     },
     "execution_count": 6,
     "metadata": {},
     "output_type": "execute_result"
    }
   ],
   "source": [
    "net.evaluate(X_test,y_test)"
   ]
  },
  {
   "cell_type": "code",
   "execution_count": null,
   "metadata": {},
   "outputs": [],
   "source": []
  }
 ],
 "metadata": {
  "kernelspec": {
   "display_name": "Python 3",
   "language": "python",
   "name": "python3"
  },
  "language_info": {
   "codemirror_mode": {
    "name": "ipython",
    "version": 3
   },
   "file_extension": ".py",
   "mimetype": "text/x-python",
   "name": "python",
   "nbconvert_exporter": "python",
   "pygments_lexer": "ipython3",
   "version": "3.7.6"
  }
 },
 "nbformat": 4,
 "nbformat_minor": 4
}
