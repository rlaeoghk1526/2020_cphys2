{
 "cells": [
  {
   "cell_type": "markdown",
   "metadata": {},
   "source": [
    "# 1"
   ]
  },
  {
   "cell_type": "code",
   "execution_count": 1,
   "metadata": {},
   "outputs": [],
   "source": [
    "from keras.datasets import mnist\n",
    "from tensorflow import keras\n",
    "from keras import models \n",
    "from keras import layers\n",
    "import numpy as np\n",
    "import matplotlib.pyplot as plt\n",
    "from keras.utils import to_categorical\n",
    "\n",
    "(X, y), (X_test, y_test) = mnist.load_data()"
   ]
  },
  {
   "cell_type": "code",
   "execution_count": 2,
   "metadata": {},
   "outputs": [],
   "source": [
    "y_train=to_categorical(y)\n",
    "y_test=to_categorical(y_test)\n",
    "net = models.Sequential()\n",
    "net.add(layers.Dense(512, activation='relu', input_shape=(28*28,)))\n",
    "net.add(layers.Dropout(0.5))  \n",
    "net.add(layers.Dense(512, activation='relu'))\n",
    "net.add(layers.Dropout(0.5))\n",
    "net.add(layers.Dense(512, activation='relu'))\n",
    "net.add(layers.Dropout(0.5))\n",
    "net.add(layers.Dense(10, activation='softmax')) \n",
    "net.compile(optimizer='nadam',loss='categorical_crossentropy',metrics=['acc'])\n",
    "X_train = X.reshape((60000, 28*28))\n",
    "X_train = X_train/255\n",
    "\n",
    "X_test = X_test.reshape((10000, 28*28))\n",
    "X_test = X_test/255"
   ]
  },
  {
   "cell_type": "code",
   "execution_count": 3,
   "metadata": {},
   "outputs": [
    {
     "name": "stdout",
     "output_type": "stream",
     "text": [
      "Epoch 1/20\n",
      "469/469 [==============================] - 21s 44ms/step - loss: 0.4023 - acc: 0.8734\n",
      "Epoch 2/20\n",
      "469/469 [==============================] - 22s 47ms/step - loss: 0.1844 - acc: 0.9465\n",
      "Epoch 3/20\n",
      "469/469 [==============================] - 23s 48ms/step - loss: 0.1478 - acc: 0.9558\n",
      "Epoch 4/20\n",
      "469/469 [==============================] - 23s 49ms/step - loss: 0.1259 - acc: 0.9636\n",
      "Epoch 5/20\n",
      "469/469 [==============================] - 23s 50ms/step - loss: 0.1161 - acc: 0.9661\n",
      "Epoch 6/20\n",
      "469/469 [==============================] - 24s 51ms/step - loss: 0.1052 - acc: 0.9689\n",
      "Epoch 7/20\n",
      "469/469 [==============================] - 24s 51ms/step - loss: 0.0968 - acc: 0.9716\n",
      "Epoch 8/20\n",
      "469/469 [==============================] - 25s 53ms/step - loss: 0.0913 - acc: 0.9725\n",
      "Epoch 9/20\n",
      "469/469 [==============================] - 25s 53ms/step - loss: 0.0849 - acc: 0.9746\n",
      "Epoch 10/20\n",
      "469/469 [==============================] - 25s 54ms/step - loss: 0.0806 - acc: 0.9756\n",
      "Epoch 11/20\n",
      "469/469 [==============================] - 25s 54ms/step - loss: 0.0780 - acc: 0.9769\n",
      "Epoch 12/20\n",
      "469/469 [==============================] - 25s 54ms/step - loss: 0.0755 - acc: 0.9776\n",
      "Epoch 13/20\n",
      "469/469 [==============================] - 25s 54ms/step - loss: 0.0711 - acc: 0.9783\n",
      "Epoch 14/20\n",
      "469/469 [==============================] - 25s 54ms/step - loss: 0.0709 - acc: 0.9786\n",
      "Epoch 15/20\n",
      "469/469 [==============================] - 26s 55ms/step - loss: 0.0646 - acc: 0.9809\n",
      "Epoch 16/20\n",
      "469/469 [==============================] - 26s 55ms/step - loss: 0.0660 - acc: 0.9797 0s - loss: 0.0658 - acc: 0.97 - ETA: 0s - loss: 0.0659\n",
      "Epoch 17/20\n",
      "469/469 [==============================] - 26s 55ms/step - loss: 0.0679 - acc: 0.9796 1s - loss: 0\n",
      "Epoch 18/20\n",
      "469/469 [==============================] - 26s 55ms/step - loss: 0.0590 - acc: 0.9821 1s - l\n",
      "Epoch 19/20\n",
      "469/469 [==============================] - 26s 54ms/step - loss: 0.0621 - acc: 0.9809\n",
      "Epoch 20/20\n",
      "469/469 [==============================] - 26s 55ms/step - loss: 0.0613 - acc: 0.9817 8s - loss: 0\n"
     ]
    }
   ],
   "source": [
    "hw8_1 = net.fit(X_train,y_train,epochs = 20 , batch_size = 128)"
   ]
  },
  {
   "cell_type": "code",
   "execution_count": 4,
   "metadata": {
    "scrolled": false
   },
   "outputs": [
    {
     "name": "stdout",
     "output_type": "stream",
     "text": [
      "313/313 [==============================] - 2s 5ms/step - loss: 0.0618 - acc: 0.9843\n"
     ]
    }
   ],
   "source": [
    "test_loss, test_acc = net.evaluate(X_test,y_test)"
   ]
  },
  {
   "cell_type": "markdown",
   "metadata": {},
   "source": [
    "# 2"
   ]
  },
  {
   "cell_type": "code",
   "execution_count": 23,
   "metadata": {},
   "outputs": [],
   "source": [
    "from keras.datasets import fashion_mnist\n",
    "\n",
    "(X2, y2), (X_test2, y_test2) = fashion_mnist.load_data()"
   ]
  },
  {
   "cell_type": "code",
   "execution_count": 24,
   "metadata": {},
   "outputs": [],
   "source": [
    "y_train2=to_categorical(y2)\n",
    "y_test2=to_categorical(y_test2)\n",
    "net2 = models.Sequential()\n",
    "net2.add(layers.Dense(512, activation='relu', input_shape=(28*28,)))\n",
    "net2.add(layers.Dropout(0.5))  \n",
    "net2.add(layers.Dense(512, activation='relu'))\n",
    "net2.add(layers.Dropout(0.5))\n",
    "net2.add(layers.Dense(512, activation='relu'))\n",
    "net2.add(layers.Dropout(0.5))\n",
    "net2.add(layers.Dense(10, activation='softmax')) \n",
    "net2.compile(optimizer='nadam',loss='categorical_crossentropy',metrics=['acc'])\n",
    "X_train2 = X2.reshape((60000, 28*28))\n",
    "X_train2 = X_train2/255\n",
    "\n",
    "X_test2 = X_test2.reshape((10000, 28*28))\n",
    "X_test2 = X_test2/255"
   ]
  },
  {
   "cell_type": "code",
   "execution_count": 25,
   "metadata": {},
   "outputs": [
    {
     "name": "stdout",
     "output_type": "stream",
     "text": [
      "Epoch 1/20\n",
      "469/469 [==============================] - 20s 42ms/step - loss: 0.6709 - acc: 0.7571\n",
      "Epoch 2/20\n",
      "469/469 [==============================] - 21s 45ms/step - loss: 0.4738 - acc: 0.8306\n",
      "Epoch 3/20\n",
      "469/469 [==============================] - 22s 48ms/step - loss: 0.4351 - acc: 0.8450\n",
      "Epoch 4/20\n",
      "469/469 [==============================] - 23s 48ms/step - loss: 0.4105 - acc: 0.8514\n",
      "Epoch 5/20\n",
      "469/469 [==============================] - 22s 48ms/step - loss: 0.3941 - acc: 0.8576 0s - loss: 0.3941 - acc: 0.8\n",
      "Epoch 6/20\n",
      "469/469 [==============================] - 24s 52ms/step - loss: 0.3852 - acc: 0.8612\n",
      "Epoch 7/20\n",
      "469/469 [==============================] - 25s 53ms/step - loss: 0.3761 - acc: 0.8655\n",
      "Epoch 8/20\n",
      "469/469 [==============================] - 24s 52ms/step - loss: 0.3624 - acc: 0.8700\n",
      "Epoch 9/20\n",
      "469/469 [==============================] - 24s 52ms/step - loss: 0.3561 - acc: 0.8702\n",
      "Epoch 10/20\n",
      "469/469 [==============================] - 25s 53ms/step - loss: 0.3519 - acc: 0.8731 1s -\n",
      "Epoch 11/20\n",
      "469/469 [==============================] - 25s 53ms/step - loss: 0.3511 - acc: 0.8744\n",
      "Epoch 12/20\n",
      "469/469 [==============================] - 25s 53ms/step - loss: 0.3433 - acc: 0.8744\n",
      "Epoch 13/20\n",
      "469/469 [==============================] - 26s 55ms/step - loss: 0.3376 - acc: 0.8757\n",
      "Epoch 14/20\n",
      "469/469 [==============================] - 26s 54ms/step - loss: 0.3351 - acc: 0.8789\n",
      "Epoch 15/20\n",
      "469/469 [==============================] - 27s 57ms/step - loss: 0.3337 - acc: 0.8791\n",
      "Epoch 16/20\n",
      "469/469 [==============================] - 26s 54ms/step - loss: 0.3295 - acc: 0.8792\n",
      "Epoch 17/20\n",
      "469/469 [==============================] - 25s 54ms/step - loss: 0.3269 - acc: 0.8823\n",
      "Epoch 18/20\n",
      "469/469 [==============================] - 25s 54ms/step - loss: 0.3196 - acc: 0.8835\n",
      "Epoch 19/20\n",
      "469/469 [==============================] - 25s 54ms/step - loss: 0.3159 - acc: 0.8840\n",
      "Epoch 20/20\n",
      "469/469 [==============================] - 25s 54ms/step - loss: 0.3166 - acc: 0.8843\n"
     ]
    }
   ],
   "source": [
    "hw8_2 = net2.fit(X_train2,y_train2,epochs = 20 , batch_size = 128)"
   ]
  },
  {
   "cell_type": "code",
   "execution_count": 26,
   "metadata": {},
   "outputs": [
    {
     "name": "stdout",
     "output_type": "stream",
     "text": [
      "313/313 [==============================] - 2s 6ms/step - loss: 0.3218 - acc: 0.8864\n"
     ]
    }
   ],
   "source": [
    "test_loss, test_acc = net2.evaluate(X_test2,y_test2)"
   ]
  }
 ],
 "metadata": {
  "kernelspec": {
   "display_name": "Python 3",
   "language": "python",
   "name": "python3"
  },
  "language_info": {
   "codemirror_mode": {
    "name": "ipython",
    "version": 3
   },
   "file_extension": ".py",
   "mimetype": "text/x-python",
   "name": "python",
   "nbconvert_exporter": "python",
   "pygments_lexer": "ipython3",
   "version": "3.7.6"
  }
 },
 "nbformat": 4,
 "nbformat_minor": 4
}
