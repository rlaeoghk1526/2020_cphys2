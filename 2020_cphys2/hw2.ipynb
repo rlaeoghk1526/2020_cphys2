{
 "cells": [
  {
   "cell_type": "code",
   "execution_count": 1,
   "metadata": {},
   "outputs": [],
   "source": [
    "import numpy as np"
   ]
  },
  {
   "cell_type": "markdown",
   "metadata": {},
   "source": [
    "# 구구단"
   ]
  },
  {
   "cell_type": "code",
   "execution_count": 2,
   "metadata": {},
   "outputs": [],
   "source": [
    "def GUGUDAN(a):             #변수 a 에 대한 함수 정의.\n",
    "    x=[1,2,3,4,5,6,7,8,9]   #x는 1단에서의 구구단 값\n",
    "    for i in range(0,9):   #반복문\n",
    "        x[i]=a*x[i]        \n",
    "    return x               #출력값"
   ]
  },
  {
   "cell_type": "code",
   "execution_count": 3,
   "metadata": {},
   "outputs": [
    {
     "data": {
      "text/plain": [
       "[9, 18, 27, 36, 45, 54, 63, 72, 81]"
      ]
     },
     "execution_count": 3,
     "metadata": {},
     "output_type": "execute_result"
    }
   ],
   "source": [
    "GUGUDAN(9)        "
   ]
  },
  {
   "cell_type": "markdown",
   "metadata": {},
   "source": [
    "# 홀수, 짝수 출력하기"
   ]
  },
  {
   "cell_type": "code",
   "execution_count": 4,
   "metadata": {},
   "outputs": [],
   "source": [
    "def oddeven(a):\n",
    "    \n",
    "    if a%2==0:\n",
    "        b='짝수,even'\n",
    "    elif a%2==1 :\n",
    "        b=('홀수,odd')\n",
    "    else:\n",
    "        b=('정수가 아님')\n",
    "    return print(a,'은',b)"
   ]
  },
  {
   "cell_type": "code",
   "execution_count": 5,
   "metadata": {},
   "outputs": [
    {
     "name": "stdout",
     "output_type": "stream",
     "text": [
      "8 은 짝수,even\n",
      "111 은 홀수,odd\n",
      "169.9 은 정수가 아님\n"
     ]
    },
    {
     "data": {
      "text/plain": [
       "(None, None, None)"
      ]
     },
     "execution_count": 5,
     "metadata": {},
     "output_type": "execute_result"
    }
   ],
   "source": [
    "oddeven(8),oddeven(111),oddeven(169.9)"
   ]
  },
  {
   "cell_type": "markdown",
   "metadata": {},
   "source": [
    "# 평균값 구하기"
   ]
  },
  {
   "cell_type": "markdown",
   "metadata": {},
   "source": [
    "## 입력받을 리스트 설계하기\n",
    "#### 차례대로 입력하면 리스트에 값이 저장되는 방식을 사용하겠습니다.\n",
    "#### a에 입력받은 값이 'end'이 아니면 while 반복문으로 무한 루프 시키도록 했습니다.\n",
    "#### 46,72,55,13의 합을 평균 값 낸걸로 예를 들겠습니다."
   ]
  },
  {
   "cell_type": "code",
   "execution_count": 6,
   "metadata": {
    "scrolled": true
   },
   "outputs": [
    {
     "name": "stdout",
     "output_type": "stream",
     "text": [
      "숫자를 입력해 평균을 구하고 싶은 값들을 입력하고 'Enter'를 눌러주세요. 끝나면 'end' 혹은 '끝'을 입력해주세요46\n",
      "숫자를 입력해 평균을 구하고 싶은 값들을 입력하고 'Enter'를 눌러주세요. 끝나면 'end' 혹은 '끝'을 입력해주세요72\n",
      "숫자를 입력해 평균을 구하고 싶은 값들을 입력하고 'Enter'를 눌러주세요. 끝나면 'end' 혹은 '끝'을 입력해주세요55\n",
      "숫자를 입력해 평균을 구하고 싶은 값들을 입력하고 'Enter'를 눌러주세요. 끝나면 'end' 혹은 '끝'을 입력해주세요13\n",
      "숫자를 입력해 평균을 구하고 싶은 값들을 입력하고 'Enter'를 눌러주세요. 끝나면 'end' 혹은 '끝'을 입력해주세요end\n"
     ]
    },
    {
     "data": {
      "text/plain": [
       "([46.0, 72.0, 55.0, 13.0], 4)"
      ]
     },
     "execution_count": 6,
     "metadata": {},
     "output_type": "execute_result"
    }
   ],
   "source": [
    "list = []\n",
    "End=0\n",
    "while End<1:\n",
    "    a=input(\"숫자를 입력해 평균을 구하고 싶은 값들을 입력하고 'Enter'를 눌러주세요. 끝나면 'end' 혹은 '끝'을 입력해주세요\");\n",
    "    if a=='end' or a=='끝':\n",
    "        End=+1\n",
    "    else:\n",
    "        list.append(float(a))     #평균값이 소수값이 나올수 있으니 실수형으로 설정했습니다.\n",
    "list,len(list)"
   ]
  },
  {
   "cell_type": "markdown",
   "metadata": {},
   "source": [
    "## 총합 구하기\n",
    "#### 리스트 값을 이용해 총합을 구합니다"
   ]
  },
  {
   "cell_type": "code",
   "execution_count": 7,
   "metadata": {},
   "outputs": [
    {
     "data": {
      "text/plain": [
       "186.0"
      ]
     },
     "execution_count": 7,
     "metadata": {},
     "output_type": "execute_result"
    }
   ],
   "source": [
    "Sum=0\n",
    "for i in range (0,len(list)):\n",
    "    Sum=Sum+list[i]\n",
    "Sum"
   ]
  },
  {
   "cell_type": "markdown",
   "metadata": {},
   "source": [
    "## 함수 만들기"
   ]
  },
  {
   "cell_type": "code",
   "execution_count": 8,
   "metadata": {},
   "outputs": [
    {
     "data": {
      "text/plain": [
       "46.5"
      ]
     },
     "execution_count": 8,
     "metadata": {},
     "output_type": "execute_result"
    }
   ],
   "source": [
    "def Mean(k):          \n",
    "    Sum=0\n",
    "    for i in range (0,len(list)):\n",
    "        Sum=Sum+list[i]\n",
    "    return Sum/k\n",
    "Mean(len(list))             #변수는 리스트의 길이로 잡았습니다. 함수값을 임의로 입력해 버리면 값이 다른 것이 나오기 때문에\n",
    "                            #바로 값이 출력 되도록 설정했습니다."
   ]
  },
  {
   "cell_type": "markdown",
   "metadata": {},
   "source": [
    "#### 위의 결과는 평균값을 바로 내주기 위해서 코드 마지막에 함수를 사용해 주었습니다. 하지만 사용하지 않고 $k$값에 임의의 숫자 $?$를 넣어준다면 총합을 $?$로 나눈 값을 가질수 있습니다."
   ]
  },
  {
   "cell_type": "code",
   "execution_count": 9,
   "metadata": {},
   "outputs": [
    {
     "data": {
      "text/plain": [
       "(18.6, 18.6)"
      ]
     },
     "execution_count": 9,
     "metadata": {},
     "output_type": "execute_result"
    }
   ],
   "source": [
    "Mean(10),Sum/10"
   ]
  },
  {
   "cell_type": "markdown",
   "metadata": {},
   "source": [
    "### 둘이 합성하면 이렇습니다.\n",
    "#### 그러면 함수를 굳이 따로 입력하지 않고 리스트 값을 입력하고 나면 바로 평균 값이 나옵니다."
   ]
  },
  {
   "cell_type": "code",
   "execution_count": 10,
   "metadata": {},
   "outputs": [
    {
     "name": "stdout",
     "output_type": "stream",
     "text": [
      "숫자를 입력해 평균을 구하고 싶은 값들을 입력하고 'Enter'를 눌러주세요. 끝나면 'end' 혹은 '끝'을 입력해주세요46\n",
      "숫자를 입력해 평균을 구하고 싶은 값들을 입력하고 'Enter'를 눌러주세요. 끝나면 'end' 혹은 '끝'을 입력해주세요72\n",
      "숫자를 입력해 평균을 구하고 싶은 값들을 입력하고 'Enter'를 눌러주세요. 끝나면 'end' 혹은 '끝'을 입력해주세요55\n",
      "숫자를 입력해 평균을 구하고 싶은 값들을 입력하고 'Enter'를 눌러주세요. 끝나면 'end' 혹은 '끝'을 입력해주세요13\n",
      "숫자를 입력해 평균을 구하고 싶은 값들을 입력하고 'Enter'를 눌러주세요. 끝나면 'end' 혹은 '끝'을 입력해주세요end\n"
     ]
    },
    {
     "data": {
      "text/plain": [
       "46.5"
      ]
     },
     "execution_count": 10,
     "metadata": {},
     "output_type": "execute_result"
    }
   ],
   "source": [
    "list = []\n",
    "End=0\n",
    "while End<1:\n",
    "    a=input(\"숫자를 입력해 평균을 구하고 싶은 값들을 입력하고 'Enter'를 눌러주세요. 끝나면 'end' 혹은 '끝'을 입력해주세요\");\n",
    "    if a=='end' or a=='끝':\n",
    "        End=+1\n",
    "    else:\n",
    "        list.append(float(a))\n",
    "list,len(list)\n",
    "def Mean(k):          \n",
    "    Sum=0\n",
    "    for i in range (0,len(list)):\n",
    "        Sum=Sum+list[i]\n",
    "    return Sum/k\n",
    "Mean(len(list))"
   ]
  },
  {
   "cell_type": "markdown",
   "metadata": {},
   "source": [
    "### 하지만 굳이 함수를 작성하지 않아도 평균값은 구할수 있습니다.\n",
    "#### 위의 방식과 입력방식과 결과는 같지만 평균값을 직접 출력해 주는 코드를 입력해 주어야 합니다."
   ]
  },
  {
   "cell_type": "code",
   "execution_count": 11,
   "metadata": {},
   "outputs": [
    {
     "name": "stdout",
     "output_type": "stream",
     "text": [
      "숫자를 입력해 평균을 구하고 싶은 값들을 입력하고 'Enter'를 눌러주세요. 끝나면 'end' 혹은 '끝'을 입력해주세요46\n",
      "숫자를 입력해 평균을 구하고 싶은 값들을 입력하고 'Enter'를 눌러주세요. 끝나면 'end' 혹은 '끝'을 입력해주세요72\n",
      "숫자를 입력해 평균을 구하고 싶은 값들을 입력하고 'Enter'를 눌러주세요. 끝나면 'end' 혹은 '끝'을 입력해주세요55\n",
      "숫자를 입력해 평균을 구하고 싶은 값들을 입력하고 'Enter'를 눌러주세요. 끝나면 'end' 혹은 '끝'을 입력해주세요13\n",
      "숫자를 입력해 평균을 구하고 싶은 값들을 입력하고 'Enter'를 눌러주세요. 끝나면 'end' 혹은 '끝'을 입력해주세요end\n",
      "총 합은 186.0\n",
      "평균은 46.5\n"
     ]
    }
   ],
   "source": [
    "list = []\n",
    "End=0\n",
    "while End<1:\n",
    "    a=input(\"숫자를 입력해 평균을 구하고 싶은 값들을 입력하고 'Enter'를 눌러주세요. 끝나면 'end' 혹은 '끝'을 입력해주세요\");\n",
    "    if a=='end' or a=='끝':\n",
    "        End=+1\n",
    "    else:\n",
    "        list.append(float(a))\n",
    "list,len(list)\n",
    "Sum=0\n",
    "for i in range (0,len(list)):\n",
    "    Sum=Sum+list[i]\n",
    "Mean=Sum/len(list)\n",
    "print('총 합은',Sum)\n",
    "print('평균은',Mean)"
   ]
  },
  {
   "cell_type": "markdown",
   "metadata": {},
   "source": [
    "### sum과len 이용해 확인해 보겠습니다.\n"
   ]
  },
  {
   "cell_type": "code",
   "execution_count": 12,
   "metadata": {},
   "outputs": [
    {
     "data": {
      "text/plain": [
       "(186.0, 4, 46.5)"
      ]
     },
     "execution_count": 12,
     "metadata": {},
     "output_type": "execute_result"
    }
   ],
   "source": [
    "sum(list), len(list), sum(list)/len(list)"
   ]
  }
 ],
 "metadata": {
  "kernelspec": {
   "display_name": "Python 3",
   "language": "python",
   "name": "python3"
  },
  "language_info": {
   "codemirror_mode": {
    "name": "ipython",
    "version": 3
   },
   "file_extension": ".py",
   "mimetype": "text/x-python",
   "name": "python",
   "nbconvert_exporter": "python",
   "pygments_lexer": "ipython3",
   "version": "3.7.6"
  }
 },
 "nbformat": 4,
 "nbformat_minor": 4
}
