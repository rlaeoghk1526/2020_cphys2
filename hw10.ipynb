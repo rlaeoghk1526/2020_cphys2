{
 "cells": [
  {
   "cell_type": "markdown",
   "metadata": {},
   "source": [
    "# HW10"
   ]
  },
  {
   "cell_type": "code",
   "execution_count": 1,
   "metadata": {},
   "outputs": [
    {
     "name": "stdout",
     "output_type": "stream",
     "text": [
      "Downloading data from https://storage.googleapis.com/tensorflow/tf-keras-datasets/imdb.npz\n",
      "17465344/17464789 [==============================] - 3s 0us/step\n"
     ]
    }
   ],
   "source": [
    "import numpy as np\n",
    "from tensorflow import keras\n",
    "from keras import models \n",
    "from keras import layers\n",
    "import matplotlib.pyplot as plt\n",
    "\n",
    "from keras.datasets import imdb\n",
    "(X, y_train), (X_test, y_test) = imdb.load_data(num_words=10000)"
   ]
  },
  {
   "cell_type": "code",
   "execution_count": 2,
   "metadata": {},
   "outputs": [],
   "source": [
    "from keras.preprocessing import sequence\n",
    "\n",
    "max_words=10000 \n",
    "(X_train, y_train), (X_test, y_test) = imdb.load_data(num_words=max_words)\n",
    "\n",
    "maxlen = 100 # sequence length\n",
    "X_train = sequence.pad_sequences(X_train, maxlen=maxlen)\n",
    "X_test = sequence.pad_sequences(X_test, maxlen=maxlen)"
   ]
  },
  {
   "cell_type": "code",
   "execution_count": 28,
   "metadata": {},
   "outputs": [],
   "source": [
    "rnn = models.Sequential()\n",
    "rnn.add(layers.Embedding(max_words, 16))\n",
    "rnn.add(layers.SimpleRNN(32, activation='relu',return_sequences='True'))\n",
    "rnn.add(layers.Dense(32))\n",
    "rnn.add(layers.Dense(1))\n",
    "rnn.compile(optimizer='nadam',loss='mse')"
   ]
  },
  {
   "cell_type": "code",
   "execution_count": 29,
   "metadata": {},
   "outputs": [
    {
     "name": "stdout",
     "output_type": "stream",
     "text": [
      "Epoch 1/30\n",
      "625/625 [==============================] - 13s 21ms/step - loss: 0.2006 - val_loss: 0.1707\n",
      "Epoch 2/30\n",
      "625/625 [==============================] - 13s 21ms/step - loss: 0.1557 - val_loss: 0.1708\n",
      "Epoch 3/30\n",
      "625/625 [==============================] - 14s 22ms/step - loss: 0.1374 - val_loss: 0.1827\n",
      "Epoch 4/30\n",
      "625/625 [==============================] - 14s 23ms/step - loss: 0.1254 - val_loss: 0.1800\n",
      "Epoch 5/30\n",
      "625/625 [==============================] - 14s 23ms/step - loss: 0.1188 - val_loss: 0.2032\n",
      "Epoch 6/30\n",
      "625/625 [==============================] - 14s 22ms/step - loss: 0.1088 - val_loss: 0.2259\n",
      "Epoch 7/30\n",
      "625/625 [==============================] - 14s 23ms/step - loss: 0.1127 - val_loss: 0.1950\n",
      "Epoch 8/30\n",
      "625/625 [==============================] - 15s 23ms/step - loss: 0.1015 - val_loss: 0.2014\n",
      "Epoch 9/30\n",
      "625/625 [==============================] - 15s 24ms/step - loss: 0.0935 - val_loss: 0.2039\n",
      "Epoch 10/30\n",
      "625/625 [==============================] - 15s 24ms/step - loss: 0.1243 - val_loss: 0.1917\n",
      "Epoch 11/30\n",
      "625/625 [==============================] - 15s 24ms/step - loss: 0.1036 - val_loss: 0.2046\n",
      "Epoch 12/30\n",
      "625/625 [==============================] - 15s 24ms/step - loss: 0.0933 - val_loss: 0.2085\n",
      "Epoch 13/30\n",
      "625/625 [==============================] - 15s 23ms/step - loss: 0.0990 - val_loss: 0.2083\n",
      "Epoch 14/30\n",
      "625/625 [==============================] - 15s 24ms/step - loss: 0.0903 - val_loss: 0.2190\n",
      "Epoch 15/30\n",
      "625/625 [==============================] - 15s 24ms/step - loss: 0.0847 - val_loss: 0.2152\n",
      "Epoch 16/30\n",
      "625/625 [==============================] - 15s 24ms/step - loss: 0.0798 - val_loss: 0.2087\n",
      "Epoch 17/30\n",
      "625/625 [==============================] - 16s 25ms/step - loss: 0.0920 - val_loss: 0.2130\n",
      "Epoch 18/30\n",
      "625/625 [==============================] - 15s 24ms/step - loss: 0.0778 - val_loss: 0.2179\n",
      "Epoch 19/30\n",
      "625/625 [==============================] - 15s 25ms/step - loss: 0.0788 - val_loss: 0.2312\n",
      "Epoch 20/30\n",
      "625/625 [==============================] - 15s 25ms/step - loss: 0.0880 - val_loss: 0.2111\n",
      "Epoch 21/30\n",
      "625/625 [==============================] - 15s 24ms/step - loss: 0.0841 - val_loss: 0.2247\n",
      "Epoch 22/30\n",
      "625/625 [==============================] - 15s 25ms/step - loss: 0.0692 - val_loss: 0.2263\n",
      "Epoch 23/30\n",
      "625/625 [==============================] - 15s 24ms/step - loss: 0.0756 - val_loss: 0.2284\n",
      "Epoch 24/30\n",
      "625/625 [==============================] - 15s 24ms/step - loss: 0.0771 - val_loss: 0.2269\n",
      "Epoch 25/30\n",
      "625/625 [==============================] - 15s 24ms/step - loss: 0.1139 - val_loss: 0.2145\n",
      "Epoch 26/30\n",
      "625/625 [==============================] - 16s 25ms/step - loss: 0.0706 - val_loss: 0.2385\n",
      "Epoch 27/30\n",
      "625/625 [==============================] - 15s 25ms/step - loss: 0.0681 - val_loss: 0.2430\n",
      "Epoch 28/30\n",
      "625/625 [==============================] - 16s 25ms/step - loss: 0.0687 - val_loss: 0.2346\n",
      "Epoch 29/30\n",
      "625/625 [==============================] - 16s 25ms/step - loss: 0.0968 - val_loss: 0.2339\n",
      "Epoch 30/30\n",
      "625/625 [==============================] - 16s 25ms/step - loss: 0.0792 - val_loss: 0.2503\n"
     ]
    }
   ],
   "source": [
    "history=rnn.fit(X_train,y_train,epochs=30,validation_split=0.2,validation_steps=30)"
   ]
  },
  {
   "cell_type": "code",
   "execution_count": 30,
   "metadata": {},
   "outputs": [
    {
     "data": {
      "text/plain": [
       "[<matplotlib.lines.Line2D at 0x152b71104c8>]"
      ]
     },
     "execution_count": 30,
     "metadata": {},
     "output_type": "execute_result"
    },
    {
     "data": {
      "image/png": "[encoded data removed]",
      "text/plain": [
       "<Figure size 432x288 with 1 Axes>"
      ]
     },
     "metadata": {
      "needs_background": "light"
     },
     "output_type": "display_data"
    }
   ],
   "source": [
    "loss=history.history['loss']\n",
    "val=history.history['val_loss']\n",
    "plt.plot(loss)\n",
    "plt.plot(val,'o')"
   ]
  },
  {
   "cell_type": "code",
   "execution_count": null,
   "metadata": {},
   "outputs": [],
   "source": []
  }
 ],
 "metadata": {
  "kernelspec": {
   "display_name": "Python 3",
   "language": "python",
   "name": "python3"
  },
  "language_info": {
   "codemirror_mode": {
    "name": "ipython",
    "version": 3
   },
   "file_extension": ".py",
   "mimetype": "text/x-python",
   "name": "python",
   "nbconvert_exporter": "python",
   "pygments_lexer": "ipython3",
   "version": "3.7.6"
  }
 },
 "nbformat": 4,
 "nbformat_minor": 4
}
